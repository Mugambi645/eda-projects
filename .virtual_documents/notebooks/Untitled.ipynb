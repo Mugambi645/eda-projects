import pandas as pd
import seaborn as sns
import matplotlib.pyplot as plt


titanic = pd.read_csv("../data/titanic/train.csv")
titanic.head()


titanic.info()


titanic.describe()


titanic.shape


titanic.columns


titanic.dtypes


titanic.isnull().sum()#find and return a sum of null entries


# check columns again to use as reference for keys
titanic.columns # or titanic.keys()


# Countplot
sns.catplot(x = "Sex", hue = "Survived", kind = "count", data = titanic) ## sex vs survival rate


# Pclass (Ordinal Feature) vs Survived  
group = titanic.groupby(['Pclass', 'Survived'])
p_class_survived = group.size().unstack()
# Heatmap - Color encoded 2D representation of data.
sns.heatmap(p_class_survived, annot = True, fmt = "d")


# Age (Continuous Feature) vs Survived  
# Violinplot Displays distribution of data
# across all levels of a category.
sns.violinplot(x = "Sex", y = "Age", hue="Survived", data = titanic, split = True)



